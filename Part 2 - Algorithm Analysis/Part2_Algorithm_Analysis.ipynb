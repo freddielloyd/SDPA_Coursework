{
 "cells": [
  {
   "cell_type": "markdown",
   "id": "1d2b2e66",
   "metadata": {},
   "source": [
    "Author: Freddie Lloyd\n",
    "## Part 2: Algorithm Analysis"
   ]
  },
  {
   "cell_type": "markdown",
   "id": "91448852",
   "metadata": {},
   "source": [
    "The city council is developing a new area and wants to sort the house numbers in a specific street such that houses with odd numbers are on one side, and houses with even numbers are on the other side."
   ]
  },
  {
   "cell_type": "markdown",
   "id": "65e5cad5",
   "metadata": {},
   "source": [
    "This program will write a program to sort a given collection of numbers to the councils specifications, returning an array that first contains odd house numbers sorted in descending order, and the remaining even numbers after sorted in ascending order,"
   ]
  },
  {
   "cell_type": "code",
   "execution_count": 34,
   "id": "1cf13800",
   "metadata": {},
   "outputs": [],
   "source": [
    "def sort_house_numbers(house_numbers):\n",
    "    \"\"\"\n",
    "    Takes an inputted array of numbers and returns them \n",
    "    in the desired format.\n",
    "\n",
    "    Parameters: \n",
    "        house_numbers - The numbers to be sorted\n",
    "\n",
    "    Returns:\n",
    "        output_list - The sorted list of numbers\n",
    "    \"\"\"  \n",
    "    \n",
    "    # Account for possibility of inputted numbers being of type\n",
    "    # string instead of integer\n",
    "    int_house_numbers = [int(number) for number in house_numbers]\n",
    "    \n",
    "    # Remove any duplicate numbers\n",
    "    set_house_numbers = set(int_house_numbers)\n",
    "    \n",
    "    # Make every number positive\n",
    "    abs_house_numbers = [abs(number) for number in set_house_numbers]\n",
    "    \n",
    "    \n",
    "    odd_numbers = []\n",
    "    even_numbers = []\n",
    "    \n",
    "    \n",
    "    for x in abs_house_numbers:\n",
    "        \n",
    "        if x % 2 != 0:\n",
    "            odd_numbers.append(x)\n",
    "        \n",
    "        elif x % 2 == 0:\n",
    "            even_numbers.append(x)\n",
    "            \n",
    "            \n",
    "    # Sort odd list in descending order, overwrites previous list\n",
    "    odd_numbers.sort(reverse = True)\n",
    "    \n",
    "    # Sort even list in ascending order, overwrites previous list\n",
    "    even_numbers.sort()\n",
    "    \n",
    "    \n",
    "    output_list = odd_numbers + even_numbers\n",
    "    \n",
    "    return output_list"
   ]
  },
  {
   "cell_type": "markdown",
   "id": "db09feba",
   "metadata": {},
   "source": [
    "## Complexity Discussion"
   ]
  },
  {
   "cell_type": "markdown",
   "id": "0a55e91c",
   "metadata": {},
   "source": [
    "Time complexity is a way of measuring the efficiency of a program or algorithm. Performing this kind of algorithm analysis allows for the comparison between different algorithms, therefore guiding design decisions when writing a program.\n",
    "\n",
    "Complexity works by examining the order of growth of a program's run time as the input size increases. The upper bound on this time (the worst case) is then chosen to represent the complexity. The order of growth is desribed using 'Big O' notation.\n",
    "\n",
    "As a result of focusing on the worst case scenario of run time, both additive and multiplicative constants are ignored because the interest is in the order of growth, rather than an exact figure. "
   ]
  },
  {
   "cell_type": "markdown",
   "id": "e64d171b",
   "metadata": {},
   "source": [
    "The classes of complexity can be summarised as follows, listed here in increasing order of complexity:\n",
    "\n",
    "- O(1) = Constant running time\n",
    "- O(logn) = Logarithmic running time\n",
    "- O(n) = Linear running time\n",
    "- O(nlog n) = Log-linear running time\n",
    "- O(n^c) = Polynomial running time (where c is a constant)\n",
    "- O(c^n) = Exponential running time (where c is a constant)\n",
    "- O(n!) = Factorial runing time"
   ]
  },
  {
   "cell_type": "markdown",
   "id": "469fb246",
   "metadata": {},
   "source": [
    "### Complexity of sort_house_numbers Algorithm"
   ]
  },
  {
   "cell_type": "markdown",
   "id": "d135cee0",
   "metadata": {},
   "source": [
    "##### Individual Step Complexities"
   ]
  },
  {
   "cell_type": "markdown",
   "id": "4073077d",
   "metadata": {},
   "source": [
    "Each step of the algorithm's complexity is calculated as follows:"
   ]
  },
  {
   "cell_type": "markdown",
   "id": "e18cf302",
   "metadata": {},
   "source": [
    "1.\n",
    "```python \n",
    "    int_house_numbers = [int(number) for number in house_numbers]\n",
    "```\n",
    "\n",
    "- Assignment of int_house_numbers is O(1)\n",
    "- Assigning every number as an integer in a for loop of size n is O(n)\n",
    "\n",
    "The total complexity of this step is: O(1) + O(n) = O(n+1) = __O(n)__\n",
    "\n",
    "\n",
    "\n"
   ]
  },
  {
   "cell_type": "markdown",
   "id": "e786478e",
   "metadata": {},
   "source": [
    "2.\n",
    "```python\n",
    "    set_house_numbers = set(int_house_numbers)\n",
    "```\n",
    "\n",
    "- Python built-in set function is independent of the size of the input so is O(1)\n",
    "- Assignment of the resulting set to set_house_numbers is also O(1)\n",
    "\n",
    "The total complexity of this step is: O(1) + O(1) = __O(2)__"
   ]
  },
  {
   "cell_type": "markdown",
   "id": "15417b52",
   "metadata": {},
   "source": [
    "3.\n",
    "```python\n",
    "    abs_house_numbers = [abs(number) for number in set_house_numbers]\n",
    "```\n",
    "\n",
    "- The assignment of abs_house_numbers is O(1)\n",
    "- Assigning every number as an absolute value in a for loop of size n is O(n)\n",
    "\n",
    "The total complexity of this step is: O(1) + O(n) = O(n+1) = __O(n)__\n",
    "\n"
   ]
  },
  {
   "cell_type": "markdown",
   "id": "5eb32171",
   "metadata": {},
   "source": [
    "4.\n",
    "```python\n",
    "    odd_numbers = []\n",
    "    even_numbers = []\n",
    "    \n",
    "```\n",
    "\n",
    "- The assignment of an empty list is O(1)\n",
    "\n",
    "The total complexity of this step is: O(1) + O(1) = __O(2)__\n",
    "\n"
   ]
  },
  {
   "cell_type": "markdown",
   "id": "513085fa",
   "metadata": {},
   "source": [
    "5.\n",
    "```python\n",
    "    for x in abs_house_numbers: \n",
    "\n",
    "            if x % 2 != 0:\n",
    "                odd_numbers.append(x)\n",
    "\n",
    "            elif x % 2 == 0:\n",
    "                even_numbers.append(x)\n",
    "```\n",
    "\n",
    "- The complexity of a for loop of length n is O(n)\n",
    "- For each number in the loop it is checked to see if its remainder when divided by two is equal to zero, which is O(1)\n",
    "- The complexity of appending a number the odd or even number list is O(1)\n",
    "\n",
    "The total complexity of this step is: O(n*(1+1)) = O(2n) =  __O(n)__\n"
   ]
  },
  {
   "cell_type": "markdown",
   "id": "39a033f0",
   "metadata": {},
   "source": [
    "6.\n",
    "```python\n",
    "    odd_numbers.sort(reverse = True)\n",
    "    even_numbers.sort()\n",
    "    \n",
    "```\n",
    "\n",
    "- The built-in sort function uses the 'Timsort' sorting algorithm, derived from merge sort and insertion sort, and is known to have complexity O(nlogn)\n",
    "\n",
    "The total complexity of this step is: O(nlogn) + O(nlogn) = O(2nlogn) = __O(nlogn)__"
   ]
  },
  {
   "cell_type": "markdown",
   "id": "65e76758",
   "metadata": {},
   "source": [
    "7.\n",
    "```python\n",
    "    output_list = odd_numbers + even_numbers\n",
    "```\n",
    "\n",
    "- Appending the two lists together is O(1)\n",
    "- Assigning the resulting list to output_list is O(1)\n",
    "\n",
    "The total complexity of this step is: O(1) + O(1) = __O(2)__"
   ]
  },
  {
   "cell_type": "markdown",
   "id": "3a4736df",
   "metadata": {},
   "source": [
    "##### Total Algorithm Complexity"
   ]
  },
  {
   "cell_type": "markdown",
   "id": "1acbc513",
   "metadata": {},
   "source": [
    "Combining all of the seven steps together to calculate the total algorithm complexity:\n",
    "\n",
    "O(n) + O(2) + O(n) + O(2) + O(n) + O(nlogn) + O(2) = O(3n + 6 + nlogn)"
   ]
  },
  {
   "cell_type": "markdown",
   "id": "833b71ae",
   "metadata": {},
   "source": [
    "The algorithmic complexity function here is 3n + 6 + nlogn, and the law of addition for complexity classes states that as n increases, the function will be dominated by its most complex term. This is nlogn in this instance.\n",
    "\n",
    "Therefore, the complexity of the sorting algorithm sort_house_numbers is __O(nlogn)__. "
   ]
  }
 ],
 "metadata": {
  "kernelspec": {
   "display_name": "Python 3",
   "language": "python",
   "name": "python3"
  },
  "language_info": {
   "codemirror_mode": {
    "name": "ipython",
    "version": 3
   },
   "file_extension": ".py",
   "mimetype": "text/x-python",
   "name": "python",
   "nbconvert_exporter": "python",
   "pygments_lexer": "ipython3",
   "version": "3.8.8"
  }
 },
 "nbformat": 4,
 "nbformat_minor": 5
}
