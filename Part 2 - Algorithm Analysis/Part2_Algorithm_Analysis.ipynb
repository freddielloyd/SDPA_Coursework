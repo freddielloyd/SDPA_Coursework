{
 "cells": [
  {
   "cell_type": "code",
   "execution_count": 2,
   "id": "304ce28d",
   "metadata": {},
   "outputs": [],
   "source": [
    "import numpy as np"
   ]
  },
  {
   "cell_type": "code",
   "execution_count": 38,
   "id": "5270cba2",
   "metadata": {},
   "outputs": [],
   "source": [
    "def sort_house_numbers(house_numbers):\n",
    "\n",
    "\n",
    "    odd_list = [x for x in house_numbers if x % 2 != 0]\n",
    "    even_list = [x for x in house_numbers if x % 2 == 0]\n",
    "    \n",
    "    \n",
    "    odd_list.sort(reverse = True) #sorts odd list in descending order, overwrites previous list\n",
    "    even_list.sort() #sorts even list in ascending order, overwrites previous list\n",
    "    \n",
    "    \n",
    "    output_list = odd_list + even_list\n",
    "    \n",
    "\n",
    "    return output_list #set removes duplicate numbers but removes order"
   ]
  },
  {
   "cell_type": "code",
   "execution_count": 39,
   "id": "18376f4e",
   "metadata": {},
   "outputs": [
    {
     "data": {
      "text/plain": [
       "[77, 75, 63, 49, 41, 35, 29, 5, 3, 1, 2, 42, 48, 58, 68, 72, 94]"
      ]
     },
     "execution_count": 39,
     "metadata": {},
     "output_type": "execute_result"
    }
   ],
   "source": [
    "house_numbers = np.array([1,2,3,49,35,68,29,94,5,63,42,41,48,77,75,72,58])\n",
    "\n",
    "sort_house_numbers(house_numbers)"
   ]
  },
  {
   "cell_type": "code",
   "execution_count": 36,
   "id": "1cf13800",
   "metadata": {},
   "outputs": [],
   "source": [
    "def sort_house_numbers_new(house_numbers):\n",
    "    \n",
    "    odd_numbers=[]\n",
    "    even_numbers=[]\n",
    "    \n",
    "    for x in house_numbers:\n",
    "        \n",
    "        if x % 2 != 0:\n",
    "            odd_numbers.append(x)\n",
    "        \n",
    "        else:\n",
    "            even_numbers.append(x)\n",
    "    \n",
    "    odd_numbers.sort(reverse = True) #sorts odd list in descending order, overwrites previous list\n",
    "    even_numbers.sort() #sorts even list in ascending order, overwrites previous list\n",
    "    \n",
    "    \n",
    "    output_list = odd_numbers + even_numbers\n",
    "    \n",
    "\n",
    "    return output_list #set removes duplicate numbers but removes order"
   ]
  },
  {
   "cell_type": "code",
   "execution_count": 40,
   "id": "e8917558",
   "metadata": {},
   "outputs": [
    {
     "data": {
      "text/plain": [
       "[77, 75, 63, 49, 41, 35, 29, 5, 3, 1, 2, 42, 48, 58, 68, 72, 94]"
      ]
     },
     "execution_count": 40,
     "metadata": {},
     "output_type": "execute_result"
    }
   ],
   "source": [
    "house_numbers = np.array([1,2,3,49,35,68,29,94,5,63,42,41,48,77,75,72,58])\n",
    "\n",
    "sort_house_numbers_new(house_numbers)"
   ]
  },
  {
   "cell_type": "markdown",
   "id": "db09feba",
   "metadata": {},
   "source": [
    "### Complexity Discussion"
   ]
  },
  {
   "cell_type": "markdown",
   "id": "4a2ddb6b",
   "metadata": {},
   "source": [
    "The complexity of my sorting algorithm sort_house_numbers_new is **O(nlogn)**."
   ]
  },
  {
   "cell_type": "markdown",
   "id": "4073077d",
   "metadata": {},
   "source": [
    "This is calculated as follows:"
   ]
  },
  {
   "cell_type": "markdown",
   "id": "cf0a699c",
   "metadata": {},
   "source": [
    "1. The complexities of creating empty lists odd_numbers and even_numbers are both O(1), and O(1) + O(1) = O(2)\n",
    "\n",
    "2. The complexity of looping through each house number in a list of length n is O(n). For each number within the for loop, we check its remainder when divided by 2 to check if it is an even or odd number, which is complexity O(1). The complexity of this step is O(n) * O(1) = O(n*1) = O(n)\n",
    "\n",
    "3. The build-in function sort() has complexity O(nlogn), so repeating it twice is complexity O(nlogn) * 2 = O(2nlogn) = O(nlogn)\n",
    "\n",
    "4. Concatenating the two sorted lists is not dependant on the size of the input list, so is O(1)\n",
    "\n",
    "5. Finally, returning the final sorted list is also O(1)"
   ]
  },
  {
   "cell_type": "markdown",
   "id": "1b66e550",
   "metadata": {},
   "source": [
    "Combining each step together, the complexity of the entire algorithm is O(2) + O(n) + O(nlogn) + O(1) + O(1) = O(nlogn + n + 4) = **O(nlogn)**"
   ]
  },
  {
   "cell_type": "markdown",
   "id": "264bec5b",
   "metadata": {},
   "source": [
    "This is because we drop constants, and O(1) < O(logn) < O(n) < O(nlogn), so for large values of n (ie Big O or worst case scenario), we have O(nlogn)"
   ]
  }
 ],
 "metadata": {
  "kernelspec": {
   "display_name": "Python 3",
   "language": "python",
   "name": "python3"
  },
  "language_info": {
   "codemirror_mode": {
    "name": "ipython",
    "version": 3
   },
   "file_extension": ".py",
   "mimetype": "text/x-python",
   "name": "python",
   "nbconvert_exporter": "python",
   "pygments_lexer": "ipython3",
   "version": "3.8.8"
  }
 },
 "nbformat": 4,
 "nbformat_minor": 5
}
